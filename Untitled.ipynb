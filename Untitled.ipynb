{
 "cells": [
  {
   "cell_type": "code",
   "execution_count": 235,
   "metadata": {},
   "outputs": [],
   "source": [
    "from scipy import linalg\n",
    "import numpy as np"
   ]
  },
  {
   "cell_type": "markdown",
   "metadata": {},
   "source": [
    "## Defining the black_litterman function "
   ]
  },
  {
   "cell_type": "code",
   "execution_count": 236,
   "metadata": {},
   "outputs": [],
   "source": [
    "def blacklitterman(delta, weq, sigma, tau, P, Q, Omega):\n",
    "\n",
    "  pi = weq.dot(sigma * delta)\n",
    "  ts = tau * sigma\n",
    "  # Compute posterior estimate of the mean\n",
    "  # This is a simplified version of formula (8) on page 4.\n",
    "  middle = linalg.inv(np.dot(np.dot(P,ts),P.T) + Omega)\n",
    "  er = np.expand_dims(pi,axis=0).T + np.dot(np.dot(np.dot(ts,P.T),middle),(Q - np.expand_dims(np.dot(P,pi.T),axis=1)))\n",
    "  # Compute posterior estimate of the uncertainty in the mean\n",
    "  # This is a simplified and combined version of formulas (9) and (15)\n",
    "  posteriorSigma = sigma + ts - ts.dot(P.T).dot(middle).dot(P).dot(ts)\n",
    "  # Compute posterior weights based on uncertainty in mean\n",
    "  w = er.T.dot(linalg.inv(delta * posteriorSigma)).T\n",
    "  # Compute lambda value\n",
    "  # We solve for lambda from formula (17) page 7, rather than formula (18)\n",
    "  # just because it is less to type, and we've already computed w*.\n",
    "  lmbda = np.dot(linalg.pinv(P).T,(w.T * (1 + tau) - weq).T)\n",
    "  return [er, w, lmbda]\n",
    "\n"
   ]
  },
  {
   "cell_type": "markdown",
   "metadata": {},
   "source": [
    "## Portfolio Values"
   ]
  },
  {
   "cell_type": "code",
   "execution_count": 246,
   "metadata": {},
   "outputs": [],
   "source": [
    "portfolio_weights = np.array([0.016,0.022,0.052,0.055,0.116,0.124,0.615])\n",
    "portfolio_correlation = np.array([[ 1.000, 0.488, 0.478, 0.515, 0.439, 0.512, 0.491],\n",
    "      [0.488, 1.000, 0.664, 0.655, 0.310, 0.608, 0.779],\n",
    "      [0.478, 0.664, 1.000, 0.861, 0.355, 0.783, 0.668],\n",
    "      [0.515, 0.655, 0.861, 1.000, 0.354, 0.777, 0.653],\n",
    "      [0.439, 0.310, 0.355, 0.354, 1.000, 0.405, 0.306],\n",
    "      [0.512, 0.608, 0.783, 0.777, 0.405, 1.000, 0.652],\n",
    "      [0.491, 0.779, 0.668, 0.653, 0.306, 0.652, 1.000]])\n",
    "portfolio_index_volatility = np.array([0.160, 0.203, 0.248, 0.271, 0.210, 0.200, 0.187])\n",
    "portfolio_expected_returns = np.array([0.039, 0.069, 0.084, 0.090, 0.043, 0.068, 0.076])\n",
    "portfolio_assets = {'Australia','Canada','France','Germany','Japan','UK','USA'}\n"
   ]
  },
  {
   "cell_type": "markdown",
   "metadata": {},
   "source": [
    "## Default model Values "
   ]
  },
  {
   "cell_type": "code",
   "execution_count": 238,
   "metadata": {},
   "outputs": [],
   "source": [
    "risk_aversion = 2.5"
   ]
  },
  {
   "cell_type": "markdown",
   "metadata": {},
   "source": [
    "## Model_inputs calculations\n"
   ]
  },
  {
   "cell_type": "code",
   "execution_count": 239,
   "metadata": {},
   "outputs": [],
   "source": [
    "temp = np.outer(portfolio_index_volatility,portfolio_index_volatility)\n",
    "portfolio_equity_covariance = np.multiply(temp, portfolio_correlation)\n",
    "coeffeicent_of_uncertainty = 0.05\n",
    "portfolio_uncertainity_covraince = coeffeicent_of_uncertainty * portfolio_equity_covariance"
   ]
  },
  {
   "cell_type": "markdown",
   "metadata": {},
   "source": [
    "## Defining View 1 _ Germany outperform by 5%"
   ]
  },
  {
   "cell_type": "code",
   "execution_count": 240,
   "metadata": {
    "scrolled": true
   },
   "outputs": [
    {
     "name": "stdout",
     "output_type": "stream",
     "text": [
      "[array([[0.04328024],\n",
      "       [0.07575662],\n",
      "       [0.09287673],\n",
      "       [0.11036714],\n",
      "       [0.04506164],\n",
      "       [0.0695271 ],\n",
      "       [0.0806933 ]]), array([[ 0.0152381 ],\n",
      "       [ 0.02095238],\n",
      "       [-0.03948465],\n",
      "       [ 0.35410454],\n",
      "       [ 0.11047619],\n",
      "       [-0.09461989],\n",
      "       [ 0.58571429]]), array([[0.31680977]])]\n"
     ]
    }
   ],
   "source": [
    "view_weights = np.array([np.array([0, 0, -.295, 1.00, 0, -.705, 0 ])])\n",
    "view_expectedreturn = np.array([np.array([0.05])])\n",
    "Omega = np.dot(np.dot(view_weights,portfolio_uncertainity_covraince),view_weights.T) * np.eye(view_expectedreturn.shape[0])\n",
    "res = blacklitterman(risk_aversion, portfolio_weights, portfolio_equity_covariance, coeffeicent_of_uncertainty, view_weights, view_expectedreturn, Omega)\n",
    "print(res)"
   ]
  },
  {
   "cell_type": "code",
   "execution_count": 380,
   "metadata": {},
   "outputs": [],
   "source": [
    "# Compute the expected return of the portfolio.\n",
    "def compute_mean(W,R):\n",
    "    return sum(R*W)\n",
    "\n",
    "# Compute the variance of the portfolio.\n",
    "def compute_var(W,C):\n",
    "    return dot(dot(W, C), W)\n",
    "\n",
    "# Combination of the two functions above - mean and variance of returns calculation. \n",
    "def compute_mean_var(W, R, C):\n",
    "\n",
    "    return compute_mean(W, R), compute_var(W, C)\n",
    "\n",
    "def fitness(W, R, C, r):\n",
    "    # For given level of return r, find weights which minimizes portfolio variance.\n",
    "    mean_1, var = compute_mean_var(W, R, C)\n",
    "    # Penalty for not meeting stated portfolio return effectively serves as optimization constraint\n",
    "    # Here, r is the 'target' return\n",
    "    penalty = 0.1*abs(mean_1-r)\n",
    "\n",
    "    return var + penalty\n",
    "\n",
    "# Solve for optimal portfolio weights\n",
    "def solve_weights(R, C):\n",
    "    n = len(R)\n",
    "    W = ones([n])/n # Start optimization with equal weights\n",
    "    b_ = [(0.1,1) for i in range(n)] # Bounds for decision variables\n",
    "    c_ = ({'type':'eq', 'fun': lambda W: sum(W)-1. }) # Constraints - weights must sum to 1\n",
    "    # 'target' return is the expected return on the market portfolio\n",
    "    optimized = scipy.optimize.minimize(fitness, W, (R, C, sum(R*W)), method='SLSQP')\n",
    "    if not optimized.success:\n",
    "        raise BaseException(optimized.message)\n",
    "    return optimized.x     \n"
   ]
  },
  {
   "cell_type": "code",
   "execution_count": 381,
   "metadata": {},
   "outputs": [
    {
     "name": "stdout",
     "output_type": "stream",
     "text": [
      "[0.14285696 0.14285683 0.14285675 0.14285672 0.14285694 0.14285683\n",
      " 0.14285682]\n",
      "[0.00557142 0.00985712 0.01199997 0.01285711 0.00614285 0.00971426\n",
      " 0.01085712]\n",
      "[0.14285709 0.14285706 0.14285706 0.14285689 0.14285709 0.14285708\n",
      " 0.14285705]\n",
      "[0.00557143 0.00985714 0.00842857 0.03571422 0.00614285 0.00614285\n",
      " 0.01085714]\n"
     ]
    }
   ],
   "source": [
    "portfolio_expected_returns = np.array([0.039, 0.069, 0.084, 0.090, 0.043, 0.068, 0.076])\n",
    "W = solve_weights(portfolio_expected_returns,portfolio_uncertainity_covraince)\n",
    "print(W)\n",
    "print(W*portfolio_expected_returns)\n",
    "portfolio_expected_returns = np.array([0.039, 0.069, 0.059, 0.250, 0.043, 0.043, 0.076])\n",
    "W2 = solve_weights(portfolio_expected_returns,portfolio_uncertainity_covraince)\n",
    "print(W2)\n",
    "print(W2*portfolio_expected_returns)\n"
   ]
  },
  {
   "cell_type": "code",
   "execution_count": 350,
   "metadata": {},
   "outputs": [],
   "source": [
    "\n",
    "\n"
   ]
  },
  {
   "cell_type": "code",
   "execution_count": null,
   "metadata": {},
   "outputs": [],
   "source": []
  },
  {
   "cell_type": "code",
   "execution_count": null,
   "metadata": {},
   "outputs": [],
   "source": []
  }
 ],
 "metadata": {
  "kernelspec": {
   "display_name": "Python 3",
   "language": "python",
   "name": "python3"
  },
  "language_info": {
   "codemirror_mode": {
    "name": "ipython",
    "version": 3
   },
   "file_extension": ".py",
   "mimetype": "text/x-python",
   "name": "python",
   "nbconvert_exporter": "python",
   "pygments_lexer": "ipython3",
   "version": "3.6.4"
  }
 },
 "nbformat": 4,
 "nbformat_minor": 2
}
